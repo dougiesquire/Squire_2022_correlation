{
 "cells": [
  {
   "cell_type": "code",
   "execution_count": 1,
   "id": "8795bbb7-b240-4181-8200-2e168016883d",
   "metadata": {},
   "outputs": [],
   "source": [
    "import xarray as xr\n",
    "\n",
    "import glob\n",
    "\n",
    "import dask\n",
    "\n",
    "from src import data"
   ]
  },
  {
   "cell_type": "code",
   "execution_count": 2,
   "id": "a7695825-a01c-4e0d-b88b-c029d21b080b",
   "metadata": {},
   "outputs": [],
   "source": [
    "%load_ext autoreload\n",
    "%autoreload 2\n",
    "%load_ext lab_black"
   ]
  },
  {
   "cell_type": "code",
   "execution_count": 3,
   "id": "94e11d64-09a0-4b92-88a7-2ac4da6c28aa",
   "metadata": {},
   "outputs": [
    {
     "name": "stderr",
     "output_type": "stream",
     "text": [
      "/g/data/xv83/users/ds0092/software/miniconda3/envs/squire_2022_correlation/lib/python3.10/site-packages/dask_jobqueue/core.py:20: FutureWarning: tmpfile is deprecated and will be removed in a future release. Please use dask.utils.tmpfile instead.\n",
      "  from distributed.utils import tmpfile\n"
     ]
    },
    {
     "name": "stdout",
     "output_type": "stream",
     "text": [
      "Dask daskboard link: http://10.6.44.29:8787/status\n"
     ]
    }
   ],
   "source": [
    "from dask.distributed import Client\n",
    "from dask_jobqueue import PBSCluster\n",
    "\n",
    "walltime = \"02:00:00\"\n",
    "cores = 48\n",
    "memory = \"192GB\"\n",
    "cluster = PBSCluster(\n",
    "    processes=1,\n",
    "    walltime=str(walltime),\n",
    "    cores=cores,\n",
    "    memory=str(memory),\n",
    "    job_extra=[\n",
    "        \"-q express\",\n",
    "        \"-l ncpus=\" + str(cores),\n",
    "        \"-l mem=\" + str(memory),\n",
    "        \"-P xv83\",\n",
    "        \"-l jobfs=100GB\",\n",
    "        \"-l storage=gdata/xv83+gdata/oi10+gdata/ua8\",\n",
    "    ],\n",
    "    local_directory=\"$PBS_JOBFS\",\n",
    "    header_skip=[\"select\"],\n",
    ")\n",
    "\n",
    "cluster.scale(jobs=1)\n",
    "client = Client(cluster)\n",
    "print(f\"Dask daskboard link: {client.dashboard_link}\")"
   ]
  },
  {
   "cell_type": "markdown",
   "id": "d383d027-8049-441b-bdcf-fe7bece2d19e",
   "metadata": {},
   "source": [
    "# Prepare some data"
   ]
  },
  {
   "cell_type": "code",
   "execution_count": null,
   "id": "f2e975de-58bf-4822-8a91-a3f29bd79881",
   "metadata": {},
   "outputs": [],
   "source": [
    "data.prepare_HadGEM3_dcpp_variable(\"psl\", \"Amon\")"
   ]
  },
  {
   "cell_type": "code",
   "execution_count": null,
   "id": "1c8aedfe-5484-4d6b-a75c-c252ade314ff",
   "metadata": {},
   "outputs": [],
   "source": [
    "data.prepare_EC_Earth3_dcpp_variable(\"psl\", \"Amon\")"
   ]
  },
  {
   "cell_type": "code",
   "execution_count": null,
   "id": "a8737485-2baa-4159-97d7-9c5497fbce41",
   "metadata": {},
   "outputs": [],
   "source": [
    "data.prepare_HadSLP2r()"
   ]
  },
  {
   "cell_type": "code",
   "execution_count": 15,
   "id": "2e649866-e35f-4a5c-863e-052f305274a1",
   "metadata": {},
   "outputs": [
    {
     "name": "stderr",
     "output_type": "stream",
     "text": [
      "2022-06-16 09:50:43,569 - distributed.client - ERROR - \n",
      "ConnectionRefusedError: [Errno 111] Connection refused\n",
      "\n",
      "The above exception was the direct cause of the following exception:\n",
      "\n",
      "Traceback (most recent call last):\n",
      "  File \"/g/data/xv83/users/ds0092/software/miniconda3/envs/squire_2022_correlation/lib/python3.10/site-packages/distributed/comm/core.py\", line 289, in connect\n",
      "    comm = await asyncio.wait_for(\n",
      "  File \"/g/data/xv83/users/ds0092/software/miniconda3/envs/squire_2022_correlation/lib/python3.10/asyncio/tasks.py\", line 445, in wait_for\n",
      "    return fut.result()\n",
      "  File \"/g/data/xv83/users/ds0092/software/miniconda3/envs/squire_2022_correlation/lib/python3.10/site-packages/distributed/comm/tcp.py\", line 451, in connect\n",
      "    convert_stream_closed_error(self, e)\n",
      "  File \"/g/data/xv83/users/ds0092/software/miniconda3/envs/squire_2022_correlation/lib/python3.10/site-packages/distributed/comm/tcp.py\", line 148, in convert_stream_closed_error\n",
      "    raise CommClosedError(f\"in {obj}: {exc.__class__.__name__}: {exc}\") from exc\n",
      "distributed.comm.core.CommClosedError: in <distributed.comm.tcp.TCPConnector object at 0x145ac934fe50>: ConnectionRefusedError: [Errno 111] Connection refused\n",
      "\n",
      "During handling of the above exception, another exception occurred:\n",
      "\n",
      "Traceback (most recent call last):\n",
      "  File \"/g/data/xv83/users/ds0092/software/miniconda3/envs/squire_2022_correlation/lib/python3.10/site-packages/distributed/utils.py\", line 761, in wrapper\n",
      "    return await func(*args, **kwargs)\n",
      "  File \"/g/data/xv83/users/ds0092/software/miniconda3/envs/squire_2022_correlation/lib/python3.10/site-packages/distributed/client.py\", line 1225, in _reconnect\n",
      "    await self._ensure_connected(timeout=timeout)\n",
      "  File \"/g/data/xv83/users/ds0092/software/miniconda3/envs/squire_2022_correlation/lib/python3.10/site-packages/distributed/client.py\", line 1255, in _ensure_connected\n",
      "    comm = await connect(\n",
      "  File \"/g/data/xv83/users/ds0092/software/miniconda3/envs/squire_2022_correlation/lib/python3.10/site-packages/distributed/comm/core.py\", line 313, in connect\n",
      "    await asyncio.sleep(backoff)\n",
      "  File \"/g/data/xv83/users/ds0092/software/miniconda3/envs/squire_2022_correlation/lib/python3.10/asyncio/tasks.py\", line 605, in sleep\n",
      "    return await future\n",
      "asyncio.exceptions.CancelledError\n",
      "\n",
      "Traceback (most recent call last):\n",
      "  File \"/g/data/xv83/users/ds0092/software/miniconda3/envs/squire_2022_correlation/lib/python3.10/site-packages/distributed/comm/tcp.py\", line 226, in read\n",
      "    frames_nbytes = await stream.read_bytes(fmt_size)\n",
      "tornado.iostream.StreamClosedError: Stream is closed\n",
      "\n",
      "The above exception was the direct cause of the following exception:\n",
      "\n",
      "Traceback (most recent call last):\n",
      "  File \"/g/data/xv83/users/ds0092/software/miniconda3/envs/squire_2022_correlation/lib/python3.10/site-packages/distributed/client.py\", line 1406, in _handle_report\n",
      "    msgs = await self.scheduler_comm.comm.read()\n",
      "  File \"/g/data/xv83/users/ds0092/software/miniconda3/envs/squire_2022_correlation/lib/python3.10/site-packages/distributed/comm/tcp.py\", line 242, in read\n",
      "    convert_stream_closed_error(self, e)\n",
      "  File \"/g/data/xv83/users/ds0092/software/miniconda3/envs/squire_2022_correlation/lib/python3.10/site-packages/distributed/comm/tcp.py\", line 150, in convert_stream_closed_error\n",
      "    raise CommClosedError(f\"in {obj}: {exc}\") from exc\n",
      "distributed.comm.core.CommClosedError: in <TCP (closed) Client->Scheduler local=tcp://10.6.44.29:45278 remote=tcp://10.6.44.29:42497>: Stream is closed\n",
      "\n",
      "During handling of the above exception, another exception occurred:\n",
      "\n",
      "Traceback (most recent call last):\n",
      "  File \"/g/data/xv83/users/ds0092/software/miniconda3/envs/squire_2022_correlation/lib/python3.10/site-packages/distributed/utils.py\", line 761, in wrapper\n",
      "    return await func(*args, **kwargs)\n",
      "  File \"/g/data/xv83/users/ds0092/software/miniconda3/envs/squire_2022_correlation/lib/python3.10/site-packages/distributed/client.py\", line 1414, in _handle_report\n",
      "    await self._reconnect()\n",
      "  File \"/g/data/xv83/users/ds0092/software/miniconda3/envs/squire_2022_correlation/lib/python3.10/site-packages/distributed/utils.py\", line 761, in wrapper\n",
      "    return await func(*args, **kwargs)\n",
      "  File \"/g/data/xv83/users/ds0092/software/miniconda3/envs/squire_2022_correlation/lib/python3.10/site-packages/distributed/client.py\", line 1225, in _reconnect\n",
      "    await self._ensure_connected(timeout=timeout)\n",
      "  File \"/g/data/xv83/users/ds0092/software/miniconda3/envs/squire_2022_correlation/lib/python3.10/site-packages/distributed/client.py\", line 1255, in _ensure_connected\n",
      "    comm = await connect(\n",
      "  File \"/g/data/xv83/users/ds0092/software/miniconda3/envs/squire_2022_correlation/lib/python3.10/site-packages/distributed/comm/core.py\", line 313, in connect\n",
      "    await asyncio.sleep(backoff)\n",
      "  File \"/g/data/xv83/users/ds0092/software/miniconda3/envs/squire_2022_correlation/lib/python3.10/asyncio/tasks.py\", line 605, in sleep\n",
      "    return await future\n",
      "asyncio.exceptions.CancelledError\n"
     ]
    }
   ],
   "source": [
    "cluster.close()\n",
    "client.close()"
   ]
  },
  {
   "cell_type": "code",
   "execution_count": null,
   "id": "78f70275-263a-4e73-a16e-a79d6a3a29d9",
   "metadata": {},
   "outputs": [],
   "source": []
  }
 ],
 "metadata": {
  "kernelspec": {
   "display_name": "Python (squire_2022_correlation)",
   "language": "python",
   "name": "squire_2022_correlation"
  },
  "language_info": {
   "codemirror_mode": {
    "name": "ipython",
    "version": 3
   },
   "file_extension": ".py",
   "mimetype": "text/x-python",
   "name": "python",
   "nbconvert_exporter": "python",
   "pygments_lexer": "ipython3",
   "version": "3.10.4"
  }
 },
 "nbformat": 4,
 "nbformat_minor": 5
}
