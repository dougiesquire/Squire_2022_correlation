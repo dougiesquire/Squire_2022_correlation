{
 "cells": [
  {
   "cell_type": "code",
   "execution_count": 164,
   "id": "8795bbb7-b240-4181-8200-2e168016883d",
   "metadata": {},
   "outputs": [],
   "source": [
    "import xarray as xr\n",
    "\n",
    "import glob\n",
    "\n",
    "import dask\n",
    "\n",
    "from src import data"
   ]
  },
  {
   "cell_type": "code",
   "execution_count": 146,
   "id": "a7695825-a01c-4e0d-b88b-c029d21b080b",
   "metadata": {},
   "outputs": [],
   "source": [
    "%load_ext autoreload\n",
    "%autoreload 2\n",
    "%load_ext lab_black"
   ]
  },
  {
   "cell_type": "code",
   "execution_count": 243,
   "id": "94e11d64-09a0-4b92-88a7-2ac4da6c28aa",
   "metadata": {},
   "outputs": [
    {
     "name": "stdout",
     "output_type": "stream",
     "text": [
      "Dask daskboard link: http://10.6.72.58:8787/status\n"
     ]
    }
   ],
   "source": [
    "from dask.distributed import Client\n",
    "from dask_jobqueue import PBSCluster\n",
    "\n",
    "walltime = \"02:00:00\"\n",
    "cores = 48\n",
    "memory = \"192GB\"\n",
    "cluster = PBSCluster(\n",
    "    processes=1,\n",
    "    walltime=str(walltime),\n",
    "    cores=cores,\n",
    "    memory=str(memory),\n",
    "    job_extra=[\n",
    "        \"-q express\",\n",
    "        \"-l ncpus=\" + str(cores),\n",
    "        \"-l mem=\" + str(memory),\n",
    "        \"-P xv83\",\n",
    "        \"-l jobfs=100GB\",\n",
    "        \"-l storage=gdata/xv83+gdata/oi10+gdata/ua8\",\n",
    "    ],\n",
    "    local_directory=\"$PBS_JOBFS\",\n",
    "    header_skip=[\"select\"],\n",
    ")\n",
    "\n",
    "cluster.scale(jobs=1)\n",
    "client = Client(cluster)\n",
    "print(f\"Dask daskboard link: {client.dashboard_link}\")"
   ]
  },
  {
   "cell_type": "markdown",
   "id": "d383d027-8049-441b-bdcf-fe7bece2d19e",
   "metadata": {},
   "source": [
    "# Prepare some data"
   ]
  },
  {
   "cell_type": "code",
   "execution_count": 199,
   "id": "f2e975de-58bf-4822-8a91-a3f29bd79881",
   "metadata": {},
   "outputs": [],
   "source": [
    "data.extract_HadGEM3_variable(\n",
    "    \"psl\", \"Amon\", \"psl_Amon_HadGEM3-GC31-MM_dcpp\"\n",
    ")"
   ]
  },
  {
   "cell_type": "code",
   "execution_count": null,
   "id": "1c8aedfe-5484-4d6b-a75c-c252ade314ff",
   "metadata": {},
   "outputs": [],
   "source": [
    "data.extract_EC_Earth3_variable(\"psl\", \"Amon\", \"psl_Amon_EC_Earth3_dcppA\")"
   ]
  },
  {
   "cell_type": "code",
   "execution_count": null,
   "id": "a8737485-2baa-4159-97d7-9c5497fbce41",
   "metadata": {},
   "outputs": [],
   "source": [
    "data.prepare_HadSLP2r()"
   ]
  },
  {
   "cell_type": "code",
   "execution_count": null,
   "id": "2e649866-e35f-4a5c-863e-052f305274a1",
   "metadata": {},
   "outputs": [],
   "source": []
  }
 ],
 "metadata": {
  "kernelspec": {
   "display_name": "Python (squire_2022_correlation)",
   "language": "python",
   "name": "squire_2022_correlation"
  },
  "language_info": {
   "codemirror_mode": {
    "name": "ipython",
    "version": 3
   },
   "file_extension": ".py",
   "mimetype": "text/x-python",
   "name": "python",
   "nbconvert_exporter": "python",
   "pygments_lexer": "ipython3",
   "version": "3.10.4"
  }
 },
 "nbformat": 4,
 "nbformat_minor": 5
}
