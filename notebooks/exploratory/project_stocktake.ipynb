{
 "cells": [
  {
   "cell_type": "markdown",
   "id": "52bd53bb-59af-4479-be90-ec540d474260",
   "metadata": {},
   "source": [
    "# Organising my thoughts around what this project is trying to achieve, and how\n",
    "\n",
    "### 1. Project aim\n",
    "\n",
    "The overarching aim of this project is to demonstrate that a common block-bootstrapping approach for inferring correlation skill in multi-year forecast assessment is often not fit for purpose. The block-bootstrapping approach for a given set of N validation cases (pairs of observations and E ensemble hindcasts) is as follows:\n",
    "\n",
    "1. Randomly sample with replacement the N validation cases. To take autocorrelation into account, this is done in blocks of five consecutive cases.\n",
    "\n",
    "2. For each case, randomly sample with replacement E ensemble members.\n",
    "\n",
    "3. Compute the Pearson correlation coefficient for the ensemble mean.\n",
    "\n",
    "4. Repeat steps (1)–(3) many times to create a probability distribution.\n",
    "\n",
    "5. Calculate the p-value from a two-tailed test of the hypothesis that correlation is 0 (or alternatively, assign significance at $\\alpha$ if the percentile-based confidence interval for $1-\\alpha$ does not include 0).\n",
    "\n",
    "This approach can significantly underestimate p-values (or infer significant skill too often) because the series being correlated are generally very short (< 50 years) and have higher serial correlation than the block-bootstrapping approach can account for due to:\n",
    "\n",
    "- the nature of the process being assessed\n",
    "- ensemble averaging\n",
    "- long temporal averages (e.g. often 8-year means are assessed)\n",
    "\n",
    "### 2. Project approach\n",
    "\n",
    "My approach has been to try and test how inadequate the block-bootstrap approach can be. The answer to this question depends, of course, on:\n",
    "\n",
    "- the nature of the process being assessed\n",
    "- the number of ensemble members averaged\n",
    "- the length of the temporal averaging\n",
    "- the length of the signals being correlated\n",
    "\n",
    "To test the block-bootstrap, I generate many pairs of observations and ensemble hindcasts that are constructed to be independent of each other (i.e., they are generated such that the null hypothesis of zero correlation is true). \n",
    "\n",
    "I then test what proportion of pairs reject the null hypothesis using the block-bootstrapping approach with $\\alpha$=0.05. An appropriate statistical test should reject 5$\\%$ of the pairs (Tim had a nice suggestion to use a binomial distribution to put confidence intervals on this).\n",
    "\n",
    "### 3. Generation of independent pairs\n",
    "\n",
    "Key requirements for the process of generating the observations and ensemble hindcasts are:\n",
    "\n",
    "1. For each pair, the observations and hindcasts are indepedent of each other\n",
    "\n",
    "2. The pairs are independent of each other\n",
    "\n",
    "3. Lots of pairs can be generated\n",
    "\n",
    "3. The observation series look like real observed/reanalysis data (e.g. similar auto-correlation functions)\n",
    "\n",
    "4. The ensemble hindcast series look like real climate model data (e.g. similar auto-correlation functions)\n",
    "\n",
    "It would be great if the process also provides the ability to readily test different climate processes, ensemble sizes, temporal averages, signal lengths etc.\n",
    "\n"
   ]
  },
  {
   "cell_type": "code",
   "execution_count": null,
   "id": "bd64113f-5740-43b3-8d3e-8c4d87c508c5",
   "metadata": {},
   "outputs": [],
   "source": []
  }
 ],
 "metadata": {
  "kernelspec": {
   "display_name": "Python (squire_2022_correlation)",
   "language": "python",
   "name": "squire_2022_correlation"
  },
  "language_info": {
   "codemirror_mode": {
    "name": "ipython",
    "version": 3
   },
   "file_extension": ".py",
   "mimetype": "text/x-python",
   "name": "python",
   "nbconvert_exporter": "python",
   "pygments_lexer": "ipython3",
   "version": "3.10.4"
  }
 },
 "nbformat": 4,
 "nbformat_minor": 5
}
