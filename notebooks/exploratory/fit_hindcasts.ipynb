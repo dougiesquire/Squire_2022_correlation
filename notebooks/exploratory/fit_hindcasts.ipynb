{
 "cells": [
  {
   "cell_type": "markdown",
   "id": "c36000e2-c917-4ba0-ab54-cf3589156cf0",
   "metadata": {},
   "source": [
    "# Try to fit real hindcasts"
   ]
  },
  {
   "cell_type": "code",
   "execution_count": 1,
   "id": "cefe56ca-daee-4293-b9f0-1adf58c48dfd",
   "metadata": {},
   "outputs": [
    {
     "name": "stdout",
     "output_type": "stream",
     "text": [
      "/g/data/xv83/users/ds0092/active_projects/Squire_2022_correlation/notebooks/exploratory\n"
     ]
    }
   ],
   "source": [
    "%cd /g/data/xv83/users/ds0092/active_projects/Squire_2022_correlation/notebooks/exploratory"
   ]
  },
  {
   "cell_type": "code",
   "execution_count": 2,
   "id": "e10b1e0a-0ef2-48a7-abaf-800b07c49017",
   "metadata": {},
   "outputs": [],
   "source": [
    "import xarray as xr\n",
    "\n",
    "import numpy as np\n",
    "\n",
    "import pandas as pd\n",
    "\n",
    "from src import utils, data, ar_model\n",
    "\n",
    "import warnings\n",
    "\n",
    "from statsmodels.tsa.api import VAR\n",
    "from statsmodels.tsa.ar_model import AutoReg\n",
    "\n",
    "warnings.filterwarnings(\"ignore\")"
   ]
  },
  {
   "cell_type": "code",
   "execution_count": 3,
   "id": "7a243fe2-ca22-4f73-8305-36a583fa1af8",
   "metadata": {},
   "outputs": [],
   "source": [
    "%load_ext autoreload\n",
    "%autoreload 2\n",
    "%load_ext lab_black"
   ]
  },
  {
   "cell_type": "code",
   "execution_count": 4,
   "id": "ab8227ab-b213-45cd-8c07-42b1d65cc2de",
   "metadata": {},
   "outputs": [],
   "source": [
    "DATA_DIR = \"../../data/processed/\""
   ]
  },
  {
   "cell_type": "markdown",
   "id": "4073c4d2-c6c3-4fb8-bb55-589f886507da",
   "metadata": {},
   "source": [
    "# Develop/test code with some observation data\n",
    "\n",
    "THe function developed has since been copied into `src.ar_model`. Here we retain a few tests"
   ]
  },
  {
   "cell_type": "code",
   "execution_count": 5,
   "id": "ef114b22-600d-47cc-8570-b06c28cb33ab",
   "metadata": {},
   "outputs": [],
   "source": [
    "HadISST = xr.open_zarr(f\"{DATA_DIR}/tos_HadISST.zarr\", use_cftime=True)\n",
    "AMV = (\n",
    "    utils.calculate_period_AMV_index(\n",
    "        HadISST[\"sst\"],\n",
    "        [12, 1, 2, 3],\n",
    "    )\n",
    "    .rename(\"AMV\")\n",
    "    .compute()\n",
    ")\n",
    "AMV = utils.round_to_start_of_month(AMV, dim=\"time\")\n",
    "\n",
    "HadSLP = xr.open_zarr(f\"{DATA_DIR}/psl_HadSLP2r.zarr\", use_cftime=True)\n",
    "NAO = (\n",
    "    utils.calculate_period_NAO_index(\n",
    "        HadSLP[\"slp\"],\n",
    "        [12, 1, 2, 3],\n",
    "    )\n",
    "    .rename(\"NAO\")\n",
    "    .compute()\n",
    ")\n",
    "\n",
    "AMV, NAO = xr.align(AMV, NAO)\n",
    "obsv = xr.merge((AMV, NAO)).isel(time=slice(148))  # Even times so can divide in half"
   ]
  },
  {
   "cell_type": "markdown",
   "id": "1098abb5-78dd-4ed5-8e39-667f773ea584",
   "metadata": {},
   "source": [
    "### Check my AR model fit"
   ]
  },
  {
   "cell_type": "code",
   "execution_count": 6,
   "id": "034bc947-eb75-4987-9f9e-6f40a6e6e83f",
   "metadata": {},
   "outputs": [],
   "source": [
    "n_lags = 2"
   ]
  },
  {
   "cell_type": "code",
   "execution_count": 7,
   "id": "f480fc97-c811-4e95-a9d3-e37139aff6f1",
   "metadata": {},
   "outputs": [
    {
     "data": {
      "text/html": [
       "<div>\n",
       "<style scoped>\n",
       "    .dataframe tbody tr th:only-of-type {\n",
       "        vertical-align: middle;\n",
       "    }\n",
       "\n",
       "    .dataframe tbody tr th {\n",
       "        vertical-align: top;\n",
       "    }\n",
       "\n",
       "    .dataframe thead th {\n",
       "        text-align: right;\n",
       "    }\n",
       "</style>\n",
       "<table border=\"1\" class=\"dataframe\">\n",
       "  <thead>\n",
       "    <tr style=\"text-align: right;\">\n",
       "      <th></th>\n",
       "      <th>AMV</th>\n",
       "      <th>model_order</th>\n",
       "    </tr>\n",
       "    <tr>\n",
       "      <th>params</th>\n",
       "      <th></th>\n",
       "      <th></th>\n",
       "    </tr>\n",
       "  </thead>\n",
       "  <tbody>\n",
       "    <tr>\n",
       "      <th>AMV.lag2</th>\n",
       "      <td>0.254508</td>\n",
       "      <td>2</td>\n",
       "    </tr>\n",
       "    <tr>\n",
       "      <th>AMV.lag1</th>\n",
       "      <td>0.456688</td>\n",
       "      <td>2</td>\n",
       "    </tr>\n",
       "    <tr>\n",
       "      <th>AMV.noise_var</th>\n",
       "      <td>0.011765</td>\n",
       "      <td>2</td>\n",
       "    </tr>\n",
       "  </tbody>\n",
       "</table>\n",
       "</div>"
      ],
      "text/plain": [
       "                    AMV  model_order\n",
       "params                              \n",
       "AMV.lag2       0.254508            2\n",
       "AMV.lag1       0.456688            2\n",
       "AMV.noise_var  0.011765            2"
      ]
     },
     "execution_count": 7,
     "metadata": {},
     "output_type": "execute_result"
    }
   ],
   "source": [
    "my_params = ar_model.fit(obsv[[\"AMV\"]], n_lags=n_lags, dim=\"time\")\n",
    "my_params.to_dataframe()"
   ]
  },
  {
   "cell_type": "code",
   "execution_count": 8,
   "id": "801ead8f-04df-40a8-8c78-9eeb0e40ca28",
   "metadata": {},
   "outputs": [
    {
     "data": {
      "text/html": [
       "<div>\n",
       "<style scoped>\n",
       "    .dataframe tbody tr th:only-of-type {\n",
       "        vertical-align: middle;\n",
       "    }\n",
       "\n",
       "    .dataframe tbody tr th {\n",
       "        vertical-align: top;\n",
       "    }\n",
       "\n",
       "    .dataframe thead th {\n",
       "        text-align: right;\n",
       "    }\n",
       "</style>\n",
       "<table border=\"1\" class=\"dataframe\">\n",
       "  <thead>\n",
       "    <tr style=\"text-align: right;\">\n",
       "      <th></th>\n",
       "      <th>AMV</th>\n",
       "    </tr>\n",
       "  </thead>\n",
       "  <tbody>\n",
       "    <tr>\n",
       "      <th>AMV.L1</th>\n",
       "      <td>0.456688</td>\n",
       "    </tr>\n",
       "    <tr>\n",
       "      <th>AMV.L2</th>\n",
       "      <td>0.254508</td>\n",
       "    </tr>\n",
       "    <tr>\n",
       "      <th>AMV.noise_var</th>\n",
       "      <td>0.011765</td>\n",
       "    </tr>\n",
       "  </tbody>\n",
       "</table>\n",
       "</div>"
      ],
      "text/plain": [
       "                    AMV\n",
       "AMV.L1         0.456688\n",
       "AMV.L2         0.254508\n",
       "AMV.noise_var  0.011765"
      ]
     },
     "execution_count": 8,
     "metadata": {},
     "output_type": "execute_result"
    }
   ],
   "source": [
    "their_fit = AutoReg(obsv[[\"AMV\"]].to_dataframe(), lags=n_lags, trend=\"n\").fit()\n",
    "their_params = pd.concat(\n",
    "    (their_fit.params, pd.Series(their_fit.sigma2, [\"AMV.noise_var\"]))\n",
    ")\n",
    "their_params.to_frame(name=\"AMV\")"
   ]
  },
  {
   "cell_type": "markdown",
   "id": "8fcb69a0-b8d0-4723-a385-2c125421b553",
   "metadata": {},
   "source": [
    "### Check my VAR model fit"
   ]
  },
  {
   "cell_type": "code",
   "execution_count": 9,
   "id": "58f2b926-992d-465b-99b4-82144606e6b1",
   "metadata": {},
   "outputs": [
    {
     "data": {
      "text/html": [
       "<div>\n",
       "<style scoped>\n",
       "    .dataframe tbody tr th:only-of-type {\n",
       "        vertical-align: middle;\n",
       "    }\n",
       "\n",
       "    .dataframe tbody tr th {\n",
       "        vertical-align: top;\n",
       "    }\n",
       "\n",
       "    .dataframe thead th {\n",
       "        text-align: right;\n",
       "    }\n",
       "</style>\n",
       "<table border=\"1\" class=\"dataframe\">\n",
       "  <thead>\n",
       "    <tr style=\"text-align: right;\">\n",
       "      <th></th>\n",
       "      <th>AMV</th>\n",
       "      <th>NAO</th>\n",
       "      <th>model_order</th>\n",
       "    </tr>\n",
       "    <tr>\n",
       "      <th>params</th>\n",
       "      <th></th>\n",
       "      <th></th>\n",
       "      <th></th>\n",
       "    </tr>\n",
       "  </thead>\n",
       "  <tbody>\n",
       "    <tr>\n",
       "      <th>AMV.lag2</th>\n",
       "      <td>0.259422</td>\n",
       "      <td>-9.765535</td>\n",
       "      <td>2</td>\n",
       "    </tr>\n",
       "    <tr>\n",
       "      <th>AMV.lag1</th>\n",
       "      <td>0.451376</td>\n",
       "      <td>-1.992555</td>\n",
       "      <td>2</td>\n",
       "    </tr>\n",
       "    <tr>\n",
       "      <th>NAO.lag2</th>\n",
       "      <td>0.000801</td>\n",
       "      <td>-0.017539</td>\n",
       "      <td>2</td>\n",
       "    </tr>\n",
       "    <tr>\n",
       "      <th>NAO.lag1</th>\n",
       "      <td>-0.000845</td>\n",
       "      <td>0.060381</td>\n",
       "      <td>2</td>\n",
       "    </tr>\n",
       "    <tr>\n",
       "      <th>AMV.noise_var</th>\n",
       "      <td>0.012051</td>\n",
       "      <td>-0.084668</td>\n",
       "      <td>2</td>\n",
       "    </tr>\n",
       "    <tr>\n",
       "      <th>NAO.noise_var</th>\n",
       "      <td>-0.084668</td>\n",
       "      <td>35.364779</td>\n",
       "      <td>2</td>\n",
       "    </tr>\n",
       "  </tbody>\n",
       "</table>\n",
       "</div>"
      ],
      "text/plain": [
       "                    AMV        NAO  model_order\n",
       "params                                         \n",
       "AMV.lag2       0.259422  -9.765535            2\n",
       "AMV.lag1       0.451376  -1.992555            2\n",
       "NAO.lag2       0.000801  -0.017539            2\n",
       "NAO.lag1      -0.000845   0.060381            2\n",
       "AMV.noise_var  0.012051  -0.084668            2\n",
       "NAO.noise_var -0.084668  35.364779            2"
      ]
     },
     "execution_count": 9,
     "metadata": {},
     "output_type": "execute_result"
    }
   ],
   "source": [
    "my_params = ar_model.fit(obsv, n_lags=n_lags, dim=\"time\")\n",
    "my_params.to_dataframe()"
   ]
  },
  {
   "cell_type": "code",
   "execution_count": 10,
   "id": "615e7f97-14f0-436b-905f-5f5c69bea17a",
   "metadata": {},
   "outputs": [
    {
     "data": {
      "text/html": [
       "<div>\n",
       "<style scoped>\n",
       "    .dataframe tbody tr th:only-of-type {\n",
       "        vertical-align: middle;\n",
       "    }\n",
       "\n",
       "    .dataframe tbody tr th {\n",
       "        vertical-align: top;\n",
       "    }\n",
       "\n",
       "    .dataframe thead th {\n",
       "        text-align: right;\n",
       "    }\n",
       "</style>\n",
       "<table border=\"1\" class=\"dataframe\">\n",
       "  <thead>\n",
       "    <tr style=\"text-align: right;\">\n",
       "      <th></th>\n",
       "      <th>AMV</th>\n",
       "      <th>NAO</th>\n",
       "    </tr>\n",
       "  </thead>\n",
       "  <tbody>\n",
       "    <tr>\n",
       "      <th>L1.AMV</th>\n",
       "      <td>0.451376</td>\n",
       "      <td>-1.992555</td>\n",
       "    </tr>\n",
       "    <tr>\n",
       "      <th>L1.NAO</th>\n",
       "      <td>-0.000845</td>\n",
       "      <td>0.060381</td>\n",
       "    </tr>\n",
       "    <tr>\n",
       "      <th>L2.AMV</th>\n",
       "      <td>0.259422</td>\n",
       "      <td>-9.765535</td>\n",
       "    </tr>\n",
       "    <tr>\n",
       "      <th>L2.NAO</th>\n",
       "      <td>0.000801</td>\n",
       "      <td>-0.017539</td>\n",
       "    </tr>\n",
       "    <tr>\n",
       "      <th>sigma_u.AMV</th>\n",
       "      <td>0.012051</td>\n",
       "      <td>-0.084668</td>\n",
       "    </tr>\n",
       "    <tr>\n",
       "      <th>sigma_u.NAO</th>\n",
       "      <td>-0.084668</td>\n",
       "      <td>35.364779</td>\n",
       "    </tr>\n",
       "  </tbody>\n",
       "</table>\n",
       "</div>"
      ],
      "text/plain": [
       "                  AMV        NAO\n",
       "L1.AMV       0.451376  -1.992555\n",
       "L1.NAO      -0.000845   0.060381\n",
       "L2.AMV       0.259422  -9.765535\n",
       "L2.NAO       0.000801  -0.017539\n",
       "sigma_u.AMV  0.012051  -0.084668\n",
       "sigma_u.NAO -0.084668  35.364779"
      ]
     },
     "execution_count": 10,
     "metadata": {},
     "output_type": "execute_result"
    }
   ],
   "source": [
    "their_fit = VAR(obsv.to_dataframe()).fit(n_lags, trend=\"n\")\n",
    "their_params = pd.concat(\n",
    "    (their_fit.params, their_fit.sigma_u.rename(\"sigma_u.{}\".format))\n",
    ")\n",
    "their_params"
   ]
  },
  {
   "cell_type": "markdown",
   "id": "649e0d2a-aa0d-4fa3-aee7-e00ec8ea0a31",
   "metadata": {},
   "source": [
    "### Check that you get the same results when you duplicate data to `bystander` and `stack` dimensions"
   ]
  },
  {
   "cell_type": "code",
   "execution_count": 11,
   "id": "af6fa370-7b5f-4796-820c-c2a02e1729d5",
   "metadata": {},
   "outputs": [],
   "source": [
    "obsv_stacked = xr.concat([xr.concat([obsv] * 10, dim=\"member\")] * 2, dim=\"x\")"
   ]
  },
  {
   "cell_type": "code",
   "execution_count": 12,
   "id": "8f3deda4-997f-42b5-8301-046609338aa8",
   "metadata": {},
   "outputs": [
    {
     "data": {
      "text/html": [
       "<div>\n",
       "<style scoped>\n",
       "    .dataframe tbody tr th:only-of-type {\n",
       "        vertical-align: middle;\n",
       "    }\n",
       "\n",
       "    .dataframe tbody tr th {\n",
       "        vertical-align: top;\n",
       "    }\n",
       "\n",
       "    .dataframe thead th {\n",
       "        text-align: right;\n",
       "    }\n",
       "</style>\n",
       "<table border=\"1\" class=\"dataframe\">\n",
       "  <thead>\n",
       "    <tr style=\"text-align: right;\">\n",
       "      <th></th>\n",
       "      <th></th>\n",
       "      <th>AMV</th>\n",
       "      <th>NAO</th>\n",
       "      <th>model_order</th>\n",
       "    </tr>\n",
       "    <tr>\n",
       "      <th>x</th>\n",
       "      <th>params</th>\n",
       "      <th></th>\n",
       "      <th></th>\n",
       "      <th></th>\n",
       "    </tr>\n",
       "  </thead>\n",
       "  <tbody>\n",
       "    <tr>\n",
       "      <th rowspan=\"6\" valign=\"top\">0</th>\n",
       "      <th>AMV.lag2</th>\n",
       "      <td>0.259422</td>\n",
       "      <td>-9.765535</td>\n",
       "      <td>2</td>\n",
       "    </tr>\n",
       "    <tr>\n",
       "      <th>AMV.lag1</th>\n",
       "      <td>0.451376</td>\n",
       "      <td>-1.992555</td>\n",
       "      <td>2</td>\n",
       "    </tr>\n",
       "    <tr>\n",
       "      <th>NAO.lag2</th>\n",
       "      <td>0.000801</td>\n",
       "      <td>-0.017539</td>\n",
       "      <td>2</td>\n",
       "    </tr>\n",
       "    <tr>\n",
       "      <th>NAO.lag1</th>\n",
       "      <td>-0.000845</td>\n",
       "      <td>0.060381</td>\n",
       "      <td>2</td>\n",
       "    </tr>\n",
       "    <tr>\n",
       "      <th>AMV.noise_var</th>\n",
       "      <td>0.011753</td>\n",
       "      <td>-0.082575</td>\n",
       "      <td>2</td>\n",
       "    </tr>\n",
       "    <tr>\n",
       "      <th>NAO.noise_var</th>\n",
       "      <td>-0.082575</td>\n",
       "      <td>34.490375</td>\n",
       "      <td>2</td>\n",
       "    </tr>\n",
       "    <tr>\n",
       "      <th rowspan=\"6\" valign=\"top\">1</th>\n",
       "      <th>AMV.lag2</th>\n",
       "      <td>0.259422</td>\n",
       "      <td>-9.765535</td>\n",
       "      <td>2</td>\n",
       "    </tr>\n",
       "    <tr>\n",
       "      <th>AMV.lag1</th>\n",
       "      <td>0.451376</td>\n",
       "      <td>-1.992555</td>\n",
       "      <td>2</td>\n",
       "    </tr>\n",
       "    <tr>\n",
       "      <th>NAO.lag2</th>\n",
       "      <td>0.000801</td>\n",
       "      <td>-0.017539</td>\n",
       "      <td>2</td>\n",
       "    </tr>\n",
       "    <tr>\n",
       "      <th>NAO.lag1</th>\n",
       "      <td>-0.000845</td>\n",
       "      <td>0.060381</td>\n",
       "      <td>2</td>\n",
       "    </tr>\n",
       "    <tr>\n",
       "      <th>AMV.noise_var</th>\n",
       "      <td>0.011753</td>\n",
       "      <td>-0.082575</td>\n",
       "      <td>2</td>\n",
       "    </tr>\n",
       "    <tr>\n",
       "      <th>NAO.noise_var</th>\n",
       "      <td>-0.082575</td>\n",
       "      <td>34.490375</td>\n",
       "      <td>2</td>\n",
       "    </tr>\n",
       "  </tbody>\n",
       "</table>\n",
       "</div>"
      ],
      "text/plain": [
       "                      AMV        NAO  model_order\n",
       "x params                                         \n",
       "0 AMV.lag2       0.259422  -9.765535            2\n",
       "  AMV.lag1       0.451376  -1.992555            2\n",
       "  NAO.lag2       0.000801  -0.017539            2\n",
       "  NAO.lag1      -0.000845   0.060381            2\n",
       "  AMV.noise_var  0.011753  -0.082575            2\n",
       "  NAO.noise_var -0.082575  34.490375            2\n",
       "1 AMV.lag2       0.259422  -9.765535            2\n",
       "  AMV.lag1       0.451376  -1.992555            2\n",
       "  NAO.lag2       0.000801  -0.017539            2\n",
       "  NAO.lag1      -0.000845   0.060381            2\n",
       "  AMV.noise_var  0.011753  -0.082575            2\n",
       "  NAO.noise_var -0.082575  34.490375            2"
      ]
     },
     "execution_count": 12,
     "metadata": {},
     "output_type": "execute_result"
    }
   ],
   "source": [
    "my_params = ar_model.fit(obsv_stacked, n_lags=n_lags, dim=\"time\")\n",
    "my_params.to_dataframe()"
   ]
  },
  {
   "cell_type": "markdown",
   "id": "6f3874fc-6763-43d8-b4d2-d9bef5693187",
   "metadata": {},
   "source": [
    "### Check that you get the same results when you split `time` into two members\n",
    "Note one data point gets lost by doing this, so you won't get exactly the same answer"
   ]
  },
  {
   "cell_type": "code",
   "execution_count": 13,
   "id": "6381df66-29a2-457a-bdc8-2fcb09047c32",
   "metadata": {},
   "outputs": [],
   "source": [
    "first_half = obsv.isel(time=slice(int(obsv.sizes[\"time\"] / 2)))\n",
    "first_half = first_half.assign_coords({\"time\": range(first_half.sizes[\"time\"])})\n",
    "second_half = obsv.isel(time=slice(int(obsv.sizes[\"time\"] / 2), None))\n",
    "second_half = second_half.assign_coords({\"time\": range(second_half.sizes[\"time\"])})\n",
    "obsv_stacked = xr.concat(\n",
    "    [first_half, second_half],\n",
    "    dim=\"member\",\n",
    ")"
   ]
  },
  {
   "cell_type": "code",
   "execution_count": 14,
   "id": "82c7e852-fc9f-4a08-9bf9-63ef66de879b",
   "metadata": {},
   "outputs": [
    {
     "data": {
      "text/html": [
       "<div>\n",
       "<style scoped>\n",
       "    .dataframe tbody tr th:only-of-type {\n",
       "        vertical-align: middle;\n",
       "    }\n",
       "\n",
       "    .dataframe tbody tr th {\n",
       "        vertical-align: top;\n",
       "    }\n",
       "\n",
       "    .dataframe thead th {\n",
       "        text-align: right;\n",
       "    }\n",
       "</style>\n",
       "<table border=\"1\" class=\"dataframe\">\n",
       "  <thead>\n",
       "    <tr style=\"text-align: right;\">\n",
       "      <th></th>\n",
       "      <th>AMV</th>\n",
       "      <th>NAO</th>\n",
       "      <th>model_order</th>\n",
       "    </tr>\n",
       "    <tr>\n",
       "      <th>params</th>\n",
       "      <th></th>\n",
       "      <th></th>\n",
       "      <th></th>\n",
       "    </tr>\n",
       "  </thead>\n",
       "  <tbody>\n",
       "    <tr>\n",
       "      <th>AMV.lag2</th>\n",
       "      <td>0.256853</td>\n",
       "      <td>-9.726328</td>\n",
       "      <td>2</td>\n",
       "    </tr>\n",
       "    <tr>\n",
       "      <th>AMV.lag1</th>\n",
       "      <td>0.451882</td>\n",
       "      <td>-2.171956</td>\n",
       "      <td>2</td>\n",
       "    </tr>\n",
       "    <tr>\n",
       "      <th>NAO.lag2</th>\n",
       "      <td>0.000786</td>\n",
       "      <td>-0.018835</td>\n",
       "      <td>2</td>\n",
       "    </tr>\n",
       "    <tr>\n",
       "      <th>NAO.lag1</th>\n",
       "      <td>-0.000856</td>\n",
       "      <td>0.059289</td>\n",
       "      <td>2</td>\n",
       "    </tr>\n",
       "    <tr>\n",
       "      <th>AMV.noise_var</th>\n",
       "      <td>0.012218</td>\n",
       "      <td>-0.085884</td>\n",
       "      <td>2</td>\n",
       "    </tr>\n",
       "    <tr>\n",
       "      <th>NAO.noise_var</th>\n",
       "      <td>-0.085884</td>\n",
       "      <td>35.848080</td>\n",
       "      <td>2</td>\n",
       "    </tr>\n",
       "  </tbody>\n",
       "</table>\n",
       "</div>"
      ],
      "text/plain": [
       "                    AMV        NAO  model_order\n",
       "params                                         \n",
       "AMV.lag2       0.256853  -9.726328            2\n",
       "AMV.lag1       0.451882  -2.171956            2\n",
       "NAO.lag2       0.000786  -0.018835            2\n",
       "NAO.lag1      -0.000856   0.059289            2\n",
       "AMV.noise_var  0.012218  -0.085884            2\n",
       "NAO.noise_var -0.085884  35.848080            2"
      ]
     },
     "execution_count": 14,
     "metadata": {},
     "output_type": "execute_result"
    }
   ],
   "source": [
    "my_params = ar_model.fit(obsv_stacked, n_lags=n_lags, dim=\"time\")\n",
    "my_params.to_dataframe()"
   ]
  },
  {
   "cell_type": "markdown",
   "id": "530c6c96-3ef3-4e1b-bc8c-1cfc00d96c73",
   "metadata": {},
   "source": [
    "### Check that new select_order function works gives consistent results"
   ]
  },
  {
   "cell_type": "code",
   "execution_count": 15,
   "id": "56697638-78dc-48eb-9d5c-65f59b26020c",
   "metadata": {},
   "outputs": [
    {
     "name": "stdout",
     "output_type": "stream",
     "text": [
      "[1 2]\n"
     ]
    },
    {
     "data": {
      "text/html": [
       "<div>\n",
       "<style scoped>\n",
       "    .dataframe tbody tr th:only-of-type {\n",
       "        vertical-align: middle;\n",
       "    }\n",
       "\n",
       "    .dataframe tbody tr th {\n",
       "        vertical-align: top;\n",
       "    }\n",
       "\n",
       "    .dataframe thead th {\n",
       "        text-align: right;\n",
       "    }\n",
       "</style>\n",
       "<table border=\"1\" class=\"dataframe\">\n",
       "  <thead>\n",
       "    <tr style=\"text-align: right;\">\n",
       "      <th></th>\n",
       "      <th>AMV</th>\n",
       "      <th>model_order</th>\n",
       "    </tr>\n",
       "    <tr>\n",
       "      <th>params</th>\n",
       "      <th></th>\n",
       "      <th></th>\n",
       "    </tr>\n",
       "  </thead>\n",
       "  <tbody>\n",
       "    <tr>\n",
       "      <th>AMV.lag1</th>\n",
       "      <td>0.456688</td>\n",
       "      <td>2</td>\n",
       "    </tr>\n",
       "    <tr>\n",
       "      <th>AMV.lag2</th>\n",
       "      <td>0.254508</td>\n",
       "      <td>2</td>\n",
       "    </tr>\n",
       "    <tr>\n",
       "      <th>noise_var</th>\n",
       "      <td>0.011765</td>\n",
       "      <td>2</td>\n",
       "    </tr>\n",
       "  </tbody>\n",
       "</table>\n",
       "</div>"
      ],
      "text/plain": [
       "                AMV  model_order\n",
       "params                          \n",
       "AMV.lag1   0.456688            2\n",
       "AMV.lag2   0.254508            2\n",
       "noise_var  0.011765            2"
      ]
     },
     "execution_count": 15,
     "metadata": {},
     "output_type": "execute_result"
    }
   ],
   "source": [
    "ar_model.select_order(obsv[[\"AMV\"]]).to_dataframe()"
   ]
  },
  {
   "cell_type": "code",
   "execution_count": 16,
   "id": "18bee14b-5889-4325-9da3-b31e2f184e5f",
   "metadata": {},
   "outputs": [
    {
     "data": {
      "text/html": [
       "<div>\n",
       "<style scoped>\n",
       "    .dataframe tbody tr th:only-of-type {\n",
       "        vertical-align: middle;\n",
       "    }\n",
       "\n",
       "    .dataframe tbody tr th {\n",
       "        vertical-align: top;\n",
       "    }\n",
       "\n",
       "    .dataframe thead th {\n",
       "        text-align: right;\n",
       "    }\n",
       "</style>\n",
       "<table border=\"1\" class=\"dataframe\">\n",
       "  <thead>\n",
       "    <tr style=\"text-align: right;\">\n",
       "      <th></th>\n",
       "      <th>AMV</th>\n",
       "      <th>model_order</th>\n",
       "    </tr>\n",
       "    <tr>\n",
       "      <th>params</th>\n",
       "      <th></th>\n",
       "      <th></th>\n",
       "    </tr>\n",
       "  </thead>\n",
       "  <tbody>\n",
       "    <tr>\n",
       "      <th>AMV.lag2</th>\n",
       "      <td>0.254508</td>\n",
       "      <td>2</td>\n",
       "    </tr>\n",
       "    <tr>\n",
       "      <th>AMV.lag1</th>\n",
       "      <td>0.456688</td>\n",
       "      <td>2</td>\n",
       "    </tr>\n",
       "    <tr>\n",
       "      <th>AMV.noise_var</th>\n",
       "      <td>0.011765</td>\n",
       "      <td>2</td>\n",
       "    </tr>\n",
       "  </tbody>\n",
       "</table>\n",
       "</div>"
      ],
      "text/plain": [
       "                    AMV  model_order\n",
       "params                              \n",
       "AMV.lag2       0.254508            2\n",
       "AMV.lag1       0.456688            2\n",
       "AMV.noise_var  0.011765            2"
      ]
     },
     "execution_count": 16,
     "metadata": {},
     "output_type": "execute_result"
    }
   ],
   "source": [
    "ar_model.fit(obsv[[\"AMV\"]], n_lags=2).to_dataframe()"
   ]
  },
  {
   "cell_type": "markdown",
   "id": "d72d5db1-156c-4a37-8681-65e6e66a7521",
   "metadata": {},
   "source": [
    "# Now let's try fit to some real hindcasts"
   ]
  },
  {
   "cell_type": "code",
   "execution_count": null,
   "id": "13405a33-1460-45a7-8752-65518fb42992",
   "metadata": {},
   "outputs": [],
   "source": []
  }
 ],
 "metadata": {
  "kernelspec": {
   "display_name": "Python (squire_2022_correlation)",
   "language": "python",
   "name": "squire_2022_correlation"
  },
  "language_info": {
   "codemirror_mode": {
    "name": "ipython",
    "version": 3
   },
   "file_extension": ".py",
   "mimetype": "text/x-python",
   "name": "python",
   "nbconvert_exporter": "python",
   "pygments_lexer": "ipython3",
   "version": "3.10.4"
  }
 },
 "nbformat": 4,
 "nbformat_minor": 5
}
